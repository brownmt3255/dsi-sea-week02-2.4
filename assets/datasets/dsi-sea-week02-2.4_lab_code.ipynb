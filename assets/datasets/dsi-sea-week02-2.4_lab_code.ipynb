{
 "cells": [
  {
   "cell_type": "code",
   "execution_count": 80,
   "metadata": {
    "collapsed": false
   },
   "outputs": [
    {
     "name": "stdout",
     "output_type": "stream",
     "text": [
      "   year      artist.inverted                                  track  time  \\\n",
      "0  2000      Destiny's Child               Independent Women Part I  3:38   \n",
      "1  2000              Santana                           Maria, Maria  4:18   \n",
      "2  2000        Savage Garden                     I Knew I Loved You  4:07   \n",
      "3  2000              Madonna                                  Music  3:45   \n",
      "4  2000  Aguilera, Christina  Come On Over Baby (All I Want Is You)  3:38   \n",
      "\n",
      "  genre date.entered date.peaked  x1st.week  x2nd.week  x3rd.week     ...      \\\n",
      "0  Rock   2000-09-23  2000-11-18         78       63.0       49.0     ...       \n",
      "1  Rock   2000-02-12  2000-04-08         15        8.0        6.0     ...       \n",
      "2  Rock   1999-10-23  2000-01-29         71       48.0       43.0     ...       \n",
      "3  Rock   2000-08-12  2000-09-16         41       23.0       18.0     ...       \n",
      "4  Rock   2000-08-05  2000-10-14         57       47.0       45.0     ...       \n",
      "\n",
      "   x67th.week  x68th.week  x69th.week  x70th.week  x71st.week  x72nd.week  \\\n",
      "0         NaN         NaN         NaN         NaN         NaN         NaN   \n",
      "1         NaN         NaN         NaN         NaN         NaN         NaN   \n",
      "2         NaN         NaN         NaN         NaN         NaN         NaN   \n",
      "3         NaN         NaN         NaN         NaN         NaN         NaN   \n",
      "4         NaN         NaN         NaN         NaN         NaN         NaN   \n",
      "\n",
      "   x73rd.week  x74th.week  x75th.week  x76th.week  \n",
      "0         NaN         NaN         NaN         NaN  \n",
      "1         NaN         NaN         NaN         NaN  \n",
      "2         NaN         NaN         NaN         NaN  \n",
      "3         NaN         NaN         NaN         NaN  \n",
      "4         NaN         NaN         NaN         NaN  \n",
      "\n",
      "[5 rows x 83 columns]\n"
     ]
    }
   ],
   "source": [
    "# Load the data\n",
    "import pandas as pd\n",
    "import numpy as np\n",
    "from scipy import stats as scs\n",
    "\n",
    "df = pd.read_csv('billboard.csv')\n",
    "\n",
    "print df.head()\n"
   ]
  },
  {
   "cell_type": "code",
   "execution_count": 123,
   "metadata": {
    "collapsed": false
   },
   "outputs": [],
   "source": [
    "# Clean the Data by removing columns that have all NaN\n",
    "df = df.dropna(axis = 1, how = 'all')"
   ]
  },
  {
   "cell_type": "code",
   "execution_count": 132,
   "metadata": {
    "collapsed": false
   },
   "outputs": [
    {
     "name": "stdout",
     "output_type": "stream",
     "text": [
      "Jay-Z: 5 song(s)\n",
      "Clark Family Experience: 1 song(s)\n"
     ]
    }
   ],
   "source": [
    "# Which artist had the most amount of songs on the billboard?\n",
    "\n",
    "print \"{}: {} song(s)\".format(pd.value_counts(df['artist.inverted']).index[0], pd.value_counts(df['artist.inverted'])[0])\n",
    "\n",
    "# Which artist had the least amount of songs on the billboard?\n",
    "\n",
    "print \"{}: {} song(s)\".format(pd.value_counts(df['artist.inverted']).index[-1], pd.value_counts(df['artist.inverted'])[-1])\n",
    "\n"
   ]
  },
  {
   "cell_type": "code",
   "execution_count": 129,
   "metadata": {
    "collapsed": false
   },
   "outputs": [
    {
     "name": "stdout",
     "output_type": "stream",
     "text": [
      "Mean: 79.9589905363\n",
      "Median: 81.0\n",
      "Mode: 77\n",
      "Best 1st week ranking (min) was 15. The song was Maria, Maria by Santana.\n"
     ]
    }
   ],
   "source": [
    "# What is the average, median, mode, and best (min) billboard ranking for a song the first week it comes out?\n",
    "\n",
    "mean = np.mean(df['x1st.week'])\n",
    "median = np.median(df['x1st.week'])\n",
    "mode = list(scs.mode(df['x1st.week']))\n",
    "min_ = np.min(df['x1st.week'])\n",
    "min_song = df.ix[np.argmin(df['x1st.week']), 2]\n",
    "min_artist = df.ix[np.argmin(df['x1st.week']), 1]\n",
    "\n",
    "print \"Mean: {}\".format(mean)\n",
    "print \"Median: {}\".format(median)\n",
    "print \"Mode: {}\".format(mode[0][0])\n",
    "print \"Best 1st week ranking (min) was {}. The song was {} by {}.\".format(min_,min_song,min_artist)\n",
    "\n"
   ]
  },
  {
   "cell_type": "code",
   "execution_count": 119,
   "metadata": {
    "collapsed": true
   },
   "outputs": [],
   "source": [
    "\n"
   ]
  },
  {
   "cell_type": "code",
   "execution_count": null,
   "metadata": {
    "collapsed": true
   },
   "outputs": [],
   "source": []
  }
 ],
 "metadata": {
  "anaconda-cloud": {},
  "kernelspec": {
   "display_name": "Python [default]",
   "language": "python",
   "name": "python2"
  },
  "language_info": {
   "codemirror_mode": {
    "name": "ipython",
    "version": 2
   },
   "file_extension": ".py",
   "mimetype": "text/x-python",
   "name": "python",
   "nbconvert_exporter": "python",
   "pygments_lexer": "ipython2",
   "version": "2.7.12"
  }
 },
 "nbformat": 4,
 "nbformat_minor": 1
}
